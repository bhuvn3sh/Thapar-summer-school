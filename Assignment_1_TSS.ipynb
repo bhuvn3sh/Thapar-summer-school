{
  "nbformat": 4,
  "nbformat_minor": 0,
  "metadata": {
    "colab": {
      "provenance": [],
      "authorship_tag": "ABX9TyMkHevoHfAYVCHDR3kKvL3T",
      "include_colab_link": true
    },
    "kernelspec": {
      "name": "python3",
      "display_name": "Python 3"
    },
    "language_info": {
      "name": "python"
    }
  },
  "cells": [
    {
      "cell_type": "markdown",
      "metadata": {
        "id": "view-in-github",
        "colab_type": "text"
      },
      "source": [
        "<a href=\"https://colab.research.google.com/github/bhuvn3sh/Thapar-summer-school/blob/main/Assignment_1_TSS.ipynb\" target=\"_parent\"><img src=\"https://colab.research.google.com/assets/colab-badge.svg\" alt=\"Open In Colab\"/></a>"
      ]
    },
    {
      "cell_type": "markdown",
      "source": [
        "##**Question1.**  L is a list defined as L= [11, 12, 13, 14]."
      ],
      "metadata": {
        "id": "QxSKtnLnjWH8"
      }
    },
    {
      "cell_type": "markdown",
      "source": [
        "(i) WAP to add 50 and 60 to L."
      ],
      "metadata": {
        "id": "hKpXHsHWDYMC"
      }
    },
    {
      "cell_type": "code",
      "source": [
        "#1)\n",
        "L=[11,12,13,14]\n",
        "L.append(50)\n",
        "L.append(60)\n",
        "L"
      ],
      "metadata": {
        "colab": {
          "base_uri": "https://localhost:8080/"
        },
        "id": "e0xOWBlLlGe7",
        "outputId": "b46be773-e27a-4f50-b512-edc62e274ff5"
      },
      "execution_count": null,
      "outputs": [
        {
          "output_type": "execute_result",
          "data": {
            "text/plain": [
              "[11, 12, 13, 14, 50, 60]"
            ]
          },
          "metadata": {},
          "execution_count": 11
        }
      ]
    },
    {
      "cell_type": "markdown",
      "source": [
        "(ii) WAP to remove 11 and 13from L."
      ],
      "metadata": {
        "id": "XAS5JalfDbiD"
      }
    },
    {
      "cell_type": "code",
      "source": [
        "#2)\n",
        "del L[0]\n",
        "del L[1]\n",
        "L"
      ],
      "metadata": {
        "colab": {
          "base_uri": "https://localhost:8080/"
        },
        "id": "Bo6zEaB0lPW7",
        "outputId": "536db993-193f-42c1-bd57-d287d9da2d78"
      },
      "execution_count": null,
      "outputs": [
        {
          "output_type": "execute_result",
          "data": {
            "text/plain": [
              "[12, 14, 50, 60]"
            ]
          },
          "metadata": {},
          "execution_count": 12
        }
      ]
    },
    {
      "cell_type": "markdown",
      "source": [
        "(iii) WAP to sort L in ascending order."
      ],
      "metadata": {
        "id": "LmVoOQZVDeA5"
      }
    },
    {
      "cell_type": "code",
      "source": [
        "#3,4)\n",
        "L.sort()\n",
        "print(\"Ascending-->\",L)\n",
        "L.sort(reverse=True)\n",
        "print(\"Descending-->\",L)"
      ],
      "metadata": {
        "colab": {
          "base_uri": "https://localhost:8080/"
        },
        "id": "fepSGBE9lVGk",
        "outputId": "4198932f-32e6-4874-f54b-f22d2a2f2600"
      },
      "execution_count": null,
      "outputs": [
        {
          "output_type": "stream",
          "name": "stdout",
          "text": [
            "Ascending--> [12, 14, 50, 60]\n",
            "Descending--> [60, 50, 14, 12]\n"
          ]
        }
      ]
    },
    {
      "cell_type": "markdown",
      "source": [
        "(v) WAP to search for 13 in L."
      ],
      "metadata": {
        "id": "XX4INL9fDhCF"
      }
    },
    {
      "cell_type": "code",
      "source": [
        "#5)\n",
        "if (13 in L):\n",
        "  print(\"Present\")\n",
        "else:\n",
        "  print(\"Absent\")"
      ],
      "metadata": {
        "colab": {
          "base_uri": "https://localhost:8080/"
        },
        "id": "QsW49N-ulyuw",
        "outputId": "a1d73531-3589-410c-d7f9-16b559ad1c08"
      },
      "execution_count": null,
      "outputs": [
        {
          "output_type": "stream",
          "name": "stdout",
          "text": [
            "Absent\n"
          ]
        }
      ]
    },
    {
      "cell_type": "markdown",
      "source": [
        "(vi) WAP to count the number of elements present in L."
      ],
      "metadata": {
        "id": "mYSUiWKsDm5a"
      }
    },
    {
      "cell_type": "code",
      "source": [
        "#6)\n",
        "count=0\n",
        "print(L)\n",
        "for i in L:\n",
        "  count=count+1\n",
        "print(count)"
      ],
      "metadata": {
        "colab": {
          "base_uri": "https://localhost:8080/"
        },
        "id": "JXGP_UZNmHY2",
        "outputId": "7bf0107e-c07d-4039-99c7-d90e64be00dd"
      },
      "execution_count": null,
      "outputs": [
        {
          "output_type": "stream",
          "name": "stdout",
          "text": [
            "[60, 50, 14, 12]\n",
            "4\n"
          ]
        }
      ]
    },
    {
      "cell_type": "markdown",
      "source": [
        "(vii) WAP to sum all the elements in L."
      ],
      "metadata": {
        "id": "m7WicceAD3MP"
      }
    },
    {
      "cell_type": "code",
      "source": [
        "#7)\n",
        "print(\"Sum-->\",sum(L))"
      ],
      "metadata": {
        "colab": {
          "base_uri": "https://localhost:8080/"
        },
        "id": "CkW7byDzn-xX",
        "outputId": "a141a365-8f4c-4f80-e4ed-a91b41c6237d"
      },
      "execution_count": null,
      "outputs": [
        {
          "output_type": "stream",
          "name": "stdout",
          "text": [
            "Sum--> 136\n"
          ]
        }
      ]
    },
    {
      "cell_type": "markdown",
      "source": [
        "(viii) WAP to sum all ODD numbers in L"
      ],
      "metadata": {
        "id": "sy8p2bVgD6JC"
      }
    },
    {
      "cell_type": "code",
      "source": [
        "#8)\n",
        "s=0\n",
        "print(L)\n",
        "for i in range(0,4):\n",
        "  if(L[i]%2 ==0):\n",
        "    s=s+L[i]\n",
        "print(\"Sum of even numbers is \",s)"
      ],
      "metadata": {
        "colab": {
          "base_uri": "https://localhost:8080/"
        },
        "id": "Uym4DwsooeEq",
        "outputId": "f5e9778f-43a3-473c-adbf-a0add049c4fe"
      },
      "execution_count": null,
      "outputs": [
        {
          "output_type": "stream",
          "name": "stdout",
          "text": [
            "[60, 50, 14, 12]\n",
            "Sum of even numbers is  136\n"
          ]
        }
      ]
    },
    {
      "cell_type": "markdown",
      "source": [
        "(ix) WAP to sum all EVEN numbers in L."
      ],
      "metadata": {
        "id": "38az05L1D9qn"
      }
    },
    {
      "cell_type": "code",
      "source": [
        "#9)\n",
        "del sum\n",
        "temp=sum(L)\n",
        "print(\"Sum of odd numbers is \",temp-s)"
      ],
      "metadata": {
        "colab": {
          "base_uri": "https://localhost:8080/"
        },
        "id": "2bLzFvu5rElC",
        "outputId": "ee51e682-65b4-4065-ddde-38618feb5d16"
      },
      "execution_count": null,
      "outputs": [
        {
          "output_type": "stream",
          "name": "stdout",
          "text": [
            "Sum of odd numbers is  0\n"
          ]
        }
      ]
    },
    {
      "cell_type": "markdown",
      "source": [
        "(x) WAP to sum all PRIME numbers in L"
      ],
      "metadata": {
        "id": "hOeBkkXgEAog"
      }
    },
    {
      "cell_type": "code",
      "metadata": {
        "colab": {
          "base_uri": "https://localhost:8080/"
        },
        "id": "q37Sy99JCJRZ",
        "outputId": "f3aa874a-a0ef-4eba-b11f-c401fbb61b51"
      },
      "source": [
        "#10)\n",
        "def primeSum( L, n):\n",
        "\n",
        "\tmax_val = max(L)\n",
        "\n",
        "\n",
        "\tprime=[True for i in range(max_val + 1)]\n",
        "\tprime[0] = False\n",
        "\tprime[1] = False\n",
        "\tfor p in range(2, max_val + 1):\n",
        "\t\tif(p * p > max_val):\n",
        "\t\t\tbreak\n",
        "\n",
        "\t\tif (prime[p] == True):\n",
        "\n",
        "\t\t\tfor i in range(p * 2, max_val+1, p):\n",
        "\t\t\t\tprime[i] = False\n",
        "\n",
        "\tsum = 0\n",
        "\n",
        "\tfor i in range(n):\n",
        "\t\tif (prime[L[i]]):\n",
        "\t\t\tsum += L[i]\n",
        "\n",
        "\treturn sum\n",
        "\n",
        "n = len(L)\n",
        "\n",
        "print(primeSum(L, n))\n",
        "\n"
      ],
      "execution_count": null,
      "outputs": [
        {
          "output_type": "stream",
          "name": "stdout",
          "text": [
            "0\n"
          ]
        }
      ]
    },
    {
      "cell_type": "markdown",
      "source": [
        "(xi) WAP to clear all the elements in L."
      ],
      "metadata": {
        "id": "dtQMZhCFEDbh"
      }
    },
    {
      "cell_type": "code",
      "source": [
        "#11)\n",
        "L.clear()"
      ],
      "metadata": {
        "id": "Rx-sOogj6Uuh"
      },
      "execution_count": null,
      "outputs": []
    },
    {
      "cell_type": "markdown",
      "source": [
        "(xii) WAP to delete L."
      ],
      "metadata": {
        "id": "t28LtW9AEGQS"
      }
    },
    {
      "cell_type": "code",
      "source": [
        "#12)\n",
        "print(L)\n",
        "del L"
      ],
      "metadata": {
        "colab": {
          "base_uri": "https://localhost:8080/"
        },
        "id": "b9wvEOGg_ueC",
        "outputId": "a79ada85-f736-478e-c70a-f9eef37ecd6c"
      },
      "execution_count": null,
      "outputs": [
        {
          "output_type": "stream",
          "name": "stdout",
          "text": [
            "[]\n"
          ]
        }
      ]
    },
    {
      "cell_type": "markdown",
      "source": [
        "## **Question 2.** D is a dictionary defined as D= {1:5.6, 2:7.8, 3:6.6, 4:8.7, 5:7.7}."
      ],
      "metadata": {
        "id": "gTv4hSv6AAHu"
      }
    },
    {
      "cell_type": "markdown",
      "source": [
        "(i) WAP to add new entry in D; key=8 and value is 8.8"
      ],
      "metadata": {
        "id": "-KKC8UpbAXtB"
      }
    },
    {
      "cell_type": "code",
      "source": [
        "D={1:5.6, 2:7.8, 3:6.6, 4:8.7, 5:7.7}\n",
        "D[8]=8.8\n",
        "print(\"AFter adding-->\",D)"
      ],
      "metadata": {
        "colab": {
          "base_uri": "https://localhost:8080/"
        },
        "id": "3AF454arAFCV",
        "outputId": "77f748c6-6ccd-4697-cc53-76fc0fd69fc0"
      },
      "execution_count": null,
      "outputs": [
        {
          "output_type": "stream",
          "name": "stdout",
          "text": [
            "AFter adding--> {1: 5.6, 2: 7.8, 3: 6.6, 4: 8.7, 5: 7.7, 8: 8.8}\n"
          ]
        }
      ]
    },
    {
      "cell_type": "markdown",
      "source": [
        "(ii) WAP to remove key=2"
      ],
      "metadata": {
        "id": "hfbES-eoA23C"
      }
    },
    {
      "cell_type": "code",
      "source": [
        "del D[2]\n",
        "print(\"after deleting key 2-->\",D)"
      ],
      "metadata": {
        "colab": {
          "base_uri": "https://localhost:8080/"
        },
        "id": "gk-XYvccA52E",
        "outputId": "0773a9aa-3b85-4528-fc6a-5f66a0888b56"
      },
      "execution_count": null,
      "outputs": [
        {
          "output_type": "stream",
          "name": "stdout",
          "text": [
            "after deleting key 2--> {1: 5.6, 3: 6.6, 4: 8.7, 5: 7.7, 8: 8.8}\n"
          ]
        }
      ]
    },
    {
      "cell_type": "markdown",
      "source": [
        "(iii) WAP to check weather 6 key is present in D."
      ],
      "metadata": {
        "id": "JupaYqKaBOVf"
      }
    },
    {
      "cell_type": "code",
      "source": [
        "print (\"Is Key 6 Present    --> \", 6 in D)"
      ],
      "metadata": {
        "colab": {
          "base_uri": "https://localhost:8080/"
        },
        "id": "l-BwoK4MBSb8",
        "outputId": "eaff9030-5fb5-4fab-d1eb-790567012e21"
      },
      "execution_count": null,
      "outputs": [
        {
          "output_type": "stream",
          "name": "stdout",
          "text": [
            "Is Key 6 Present    -->  False\n"
          ]
        }
      ]
    },
    {
      "cell_type": "markdown",
      "source": [
        "(iv) WAP to count the number of elements present in D."
      ],
      "metadata": {
        "id": "eeAq-G0KBrXO"
      }
    },
    {
      "cell_type": "code",
      "source": [
        "count=0\n",
        "for k in D:\n",
        "\tcount=count+1\n",
        "print(\"The total elements in D are \",count)"
      ],
      "metadata": {
        "colab": {
          "base_uri": "https://localhost:8080/"
        },
        "id": "95C8Nv2PBsPJ",
        "outputId": "3973bdf6-b78a-479e-b0c4-569a297ff245"
      },
      "execution_count": null,
      "outputs": [
        {
          "output_type": "stream",
          "name": "stdout",
          "text": [
            "The total elements in D are  5\n"
          ]
        }
      ]
    },
    {
      "cell_type": "markdown",
      "source": [
        "(v) WAP to add all the values present D.\n"
      ],
      "metadata": {
        "id": "2nXOXDmSCB2X"
      }
    },
    {
      "cell_type": "code",
      "source": [
        "L=D.values()\n",
        "print(L)\n",
        "print(\"Sum of elements in D is \", sum(L))"
      ],
      "metadata": {
        "colab": {
          "base_uri": "https://localhost:8080/"
        },
        "id": "33Un-CgzCDDG",
        "outputId": "1d444e3d-f41c-4be2-8c58-a5580ff92336"
      },
      "execution_count": null,
      "outputs": [
        {
          "output_type": "stream",
          "name": "stdout",
          "text": [
            "dict_values([5.6, 6.6, 8.7, 7.7, 8.8])\n",
            "Sum of elements in D is  37.4\n"
          ]
        }
      ]
    },
    {
      "cell_type": "markdown",
      "source": [
        "(vi) WAP to update the value of 3 to 7.1."
      ],
      "metadata": {
        "id": "JzDyYyavCdf2"
      }
    },
    {
      "cell_type": "code",
      "source": [
        "print(D)\n",
        "D[3]=7.1\n",
        "print(D)"
      ],
      "metadata": {
        "colab": {
          "base_uri": "https://localhost:8080/"
        },
        "id": "77B_Stj1CgHG",
        "outputId": "98ba0cc0-54d4-4365-cd56-502853f31a6d"
      },
      "execution_count": null,
      "outputs": [
        {
          "output_type": "stream",
          "name": "stdout",
          "text": [
            "{1: 5.6, 3: 6.6, 4: 8.7, 5: 7.7, 8: 8.8}\n",
            "{1: 5.6, 3: 7.1, 4: 8.7, 5: 7.7, 8: 8.8}\n"
          ]
        }
      ]
    },
    {
      "cell_type": "markdown",
      "source": [
        "(vii) WAP to clear the dictionary"
      ],
      "metadata": {
        "id": "KWb35GeqCn4-"
      }
    },
    {
      "cell_type": "code",
      "source": [
        "D.clear()\n",
        "print(D)"
      ],
      "metadata": {
        "colab": {
          "base_uri": "https://localhost:8080/"
        },
        "id": "Em03mfntCqhg",
        "outputId": "5481f971-4e1a-4866-bcec-94c10b62667b"
      },
      "execution_count": null,
      "outputs": [
        {
          "output_type": "stream",
          "name": "stdout",
          "text": [
            "{}\n"
          ]
        }
      ]
    },
    {
      "cell_type": "markdown",
      "source": [
        "##**Question 3.** S1 is a set defined as S1= [10, 20, 30, 40, 50, 60].\n",
        "S2 is a set defined as S2= [40, 50, 60, 70, 80, 90]."
      ],
      "metadata": {
        "id": "nNqAMOB7C1Js"
      }
    },
    {
      "cell_type": "markdown",
      "source": [
        "(i) WAP to add 55 and 66 in Set S1."
      ],
      "metadata": {
        "id": "TrYfVYxVIq1a"
      }
    },
    {
      "cell_type": "code",
      "source": [
        "S1 = set([10,20,30,40,50,60])\n",
        "S2 = set([40,50,60,70,80,90])\n",
        "S1.add(55)\n",
        "S1.add(66)\n",
        "print(S1)"
      ],
      "metadata": {
        "colab": {
          "base_uri": "https://localhost:8080/"
        },
        "id": "gXADt079IxOB",
        "outputId": "f07d6b29-3c8b-4e2e-8be8-d7161a8e1c6d"
      },
      "execution_count": null,
      "outputs": [
        {
          "output_type": "stream",
          "name": "stdout",
          "text": [
            "{66, 40, 10, 50, 20, 55, 60, 30}\n"
          ]
        }
      ]
    },
    {
      "cell_type": "markdown",
      "source": [
        "(ii) WAP to remove 10 and 30 from Set S1."
      ],
      "metadata": {
        "id": "MMtRu1w-JWXi"
      }
    },
    {
      "cell_type": "code",
      "source": [
        "S1.remove(10)\n",
        "S1.remove(30)\n",
        "print(S1)"
      ],
      "metadata": {
        "colab": {
          "base_uri": "https://localhost:8080/"
        },
        "id": "Q83g_Si0JY9d",
        "outputId": "46b77021-7416-43e8-c336-6182eb432995"
      },
      "execution_count": null,
      "outputs": [
        {
          "output_type": "stream",
          "name": "stdout",
          "text": [
            "{66, 40, 50, 20, 55, 60}\n"
          ]
        }
      ]
    },
    {
      "cell_type": "markdown",
      "source": [
        "(iii) WAP to check whether 40 is present in S1."
      ],
      "metadata": {
        "id": "VyUzNc03JgaB"
      }
    },
    {
      "cell_type": "markdown",
      "source": [
        "(iv) WAP to find the union between S1 and S2."
      ],
      "metadata": {
        "id": "YmG-yDVNJujK"
      }
    },
    {
      "cell_type": "code",
      "source": [
        "print(\"Union of S1 and S2\",S1.union(S2))"
      ],
      "metadata": {
        "colab": {
          "base_uri": "https://localhost:8080/"
        },
        "id": "95rNxzzXJvf0",
        "outputId": "09fa114e-3a6c-4651-e290-efca60798524"
      },
      "execution_count": null,
      "outputs": [
        {
          "output_type": "stream",
          "name": "stdout",
          "text": [
            "Union of S1 and S2 {66, 70, 40, 80, 50, 20, 55, 90, 60}\n"
          ]
        }
      ]
    },
    {
      "cell_type": "markdown",
      "source": [
        "(v) WAP to find the intersection between S1 and S2."
      ],
      "metadata": {
        "id": "Eg-JbL2ZKASJ"
      }
    },
    {
      "cell_type": "code",
      "source": [
        "print (\"Intersection of S1,S2--> \", S1.intersection(S2))"
      ],
      "metadata": {
        "colab": {
          "base_uri": "https://localhost:8080/"
        },
        "id": "GPtoiWi0KBnK",
        "outputId": "871e32b5-f673-4620-c93e-31579d39d8d4"
      },
      "execution_count": null,
      "outputs": [
        {
          "output_type": "stream",
          "name": "stdout",
          "text": [
            "Intersection of S1,S2-->  {40, 50, 60}\n"
          ]
        }
      ]
    },
    {
      "cell_type": "markdown",
      "source": [
        "(vi) WAP to find the S1 - S2."
      ],
      "metadata": {
        "id": "cJnkrBedKMXM"
      }
    },
    {
      "cell_type": "code",
      "source": [
        "print (\"Difference S1-S2    --> \", S1-S2)"
      ],
      "metadata": {
        "colab": {
          "base_uri": "https://localhost:8080/"
        },
        "id": "5RmMErjMKOhL",
        "outputId": "7d7e6820-597a-44c3-c748-a46132b16c4d"
      },
      "execution_count": null,
      "outputs": [
        {
          "output_type": "stream",
          "name": "stdout",
          "text": [
            "Difference S1-S2    -->  {66, 20, 55}\n"
          ]
        }
      ]
    },
    {
      "cell_type": "markdown",
      "source": [
        "##**Question 4**\n"
      ],
      "metadata": {
        "id": "Sez_NPe1FikW"
      }
    },
    {
      "cell_type": "markdown",
      "source": [
        "(i) WAP to print 100 random strings whose length between 6 and 8."
      ],
      "metadata": {
        "id": "zwN6Cj26FokS"
      }
    },
    {
      "cell_type": "code",
      "source": [
        "import string as s\n",
        "import random as r\n",
        "\n",
        "S=s.ascii_letters\n",
        "for i in range (100):\n",
        "    l=r.sample(S,6)\n",
        "    print(\"\".join(l))"
      ],
      "metadata": {
        "colab": {
          "base_uri": "https://localhost:8080/"
        },
        "id": "MbGc65gmFwAz",
        "outputId": "5ea24ab3-873c-4c62-9a9f-90c39e34d37d"
      },
      "execution_count": null,
      "outputs": [
        {
          "output_type": "stream",
          "name": "stdout",
          "text": [
            "dYTPaz\n",
            "gRVifw\n",
            "XpgdtS\n",
            "PBrLce\n",
            "BkFznl\n",
            "kPvFKa\n",
            "GlviNF\n",
            "ofwsZq\n",
            "gBlTjQ\n",
            "OowfIg\n",
            "LKAFzU\n",
            "fNtGDl\n",
            "xebHnB\n",
            "diTPGt\n",
            "pGTJuj\n",
            "EdyJzg\n",
            "gMHrQk\n",
            "ZainpM\n",
            "OoEvRS\n",
            "DjIblM\n",
            "DuJXql\n",
            "FOiZoM\n",
            "OLbYME\n",
            "ipyQgK\n",
            "jlBtPH\n",
            "qSRjkK\n",
            "rUezOR\n",
            "JBVtiE\n",
            "wkrQMT\n",
            "fohYTS\n",
            "SPLEkw\n",
            "fOLPEG\n",
            "fKlIUu\n",
            "PYgrzx\n",
            "ViZdxp\n",
            "cARhof\n",
            "EWsQvr\n",
            "ZVGrNH\n",
            "sVQLcX\n",
            "tPCyRI\n",
            "dUluWm\n",
            "ebsDIc\n",
            "LNaJQo\n",
            "OVLQbX\n",
            "qSDJEr\n",
            "RputbL\n",
            "wLlqrC\n",
            "Zdalkf\n",
            "pWtLre\n",
            "rcNzQM\n",
            "yqNIjE\n",
            "hYZCBG\n",
            "ADiVSE\n",
            "iSUwEW\n",
            "dNRjfr\n",
            "wPtEnh\n",
            "CzbISV\n",
            "BXkOCP\n",
            "wHTmeM\n",
            "jxXLvR\n",
            "FJyuqp\n",
            "ShouLH\n",
            "fhFQbx\n",
            "yOSHnB\n",
            "OnlurQ\n",
            "yhlafW\n",
            "UEhBFH\n",
            "cODznk\n",
            "RvBZLX\n",
            "gaArtZ\n",
            "FLQhzd\n",
            "DPBbkz\n",
            "fiGPqb\n",
            "mEBjVg\n",
            "wYUJNR\n",
            "yNLGRQ\n",
            "cDVdqI\n",
            "SVxIRi\n",
            "bgvatC\n",
            "aLgous\n",
            "TRoSwc\n",
            "BbuDkc\n",
            "dclAjI\n",
            "HGCIoS\n",
            "Vbxetr\n",
            "BRnted\n",
            "LcefXJ\n",
            "IAGRSH\n",
            "jVIYrn\n",
            "TVMEDt\n",
            "sKJHVi\n",
            "xjGFsL\n",
            "ILzweP\n",
            "HidDWc\n",
            "JeMojV\n",
            "NvGTzK\n",
            "AiEThg\n",
            "zokTEt\n",
            "cahiTJ\n",
            "dvJRkN\n"
          ]
        }
      ]
    },
    {
      "cell_type": "markdown",
      "source": [
        "ii) WAP to print all prime numbers between 600 and 800."
      ],
      "metadata": {
        "id": "yiXq4y7bF15h"
      }
    },
    {
      "cell_type": "code",
      "source": [
        "def prime(i):\n",
        "    for j in range(2,i//2+1):\n",
        "        if (i%j==0):\n",
        "            return 0\n",
        "    return 1\n",
        "\n",
        "for i in range (600,801):\n",
        "    if (prime(i)==1):\n",
        "        print(i)"
      ],
      "metadata": {
        "colab": {
          "base_uri": "https://localhost:8080/"
        },
        "id": "PtTRVZIxF5dY",
        "outputId": "3a8eb7f8-535e-4b86-bf73-c56f37b1c5d6"
      },
      "execution_count": null,
      "outputs": [
        {
          "output_type": "stream",
          "name": "stdout",
          "text": [
            "601\n",
            "607\n",
            "613\n",
            "617\n",
            "619\n",
            "631\n",
            "641\n",
            "643\n",
            "647\n",
            "653\n",
            "659\n",
            "661\n",
            "673\n",
            "677\n",
            "683\n",
            "691\n",
            "701\n",
            "709\n",
            "719\n",
            "727\n",
            "733\n",
            "739\n",
            "743\n",
            "751\n",
            "757\n",
            "761\n",
            "769\n",
            "773\n",
            "787\n",
            "797\n"
          ]
        }
      ]
    },
    {
      "cell_type": "markdown",
      "source": [
        "(iii) WAP to print all numbers between 100 and 1000 that are divisible by 7 and 9."
      ],
      "metadata": {
        "id": "1gvHN1jjF-Pj"
      }
    },
    {
      "cell_type": "code",
      "source": [
        "for i in range(100,1001):\n",
        "    if (i%7==0 and i%9==0):\n",
        "        print(i)"
      ],
      "metadata": {
        "id": "i2ldf-TMGBxo"
      },
      "execution_count": null,
      "outputs": []
    },
    {
      "cell_type": "markdown",
      "source": [
        "## **Question 5** WAP to create two lists of 10 random numbers between 10 and 30"
      ],
      "metadata": {
        "id": "6T5aFv5qGFMS"
      }
    },
    {
      "cell_type": "markdown",
      "source": [
        "(i) Common numbers in the two lists"
      ],
      "metadata": {
        "id": "nEh-BDzTGMn5"
      }
    },
    {
      "cell_type": "code",
      "source": [
        "import random as r\n",
        "l1=[]\n",
        "for i in range(10):\n",
        "    x=r.randint(10,30)\n",
        "    l1+=[x]\n",
        "\n",
        "\n",
        "l2=[]\n",
        "for i in range(10):\n",
        "    x=r.randint(10,30)\n",
        "    l2+=[x]\n",
        "\n",
        "\n",
        "\n",
        "f=0\n",
        "l3=[]\n",
        "for i in l1:\n",
        "    l3+=[i]\n",
        "    for j in l2:\n",
        "        if (i==j):\n",
        "            f=1\n",
        "            break\n",
        "    if (f==0 and i not in l3):\n",
        "        print(\"common element\" ,i)\n"
      ],
      "metadata": {
        "id": "SoHOpeuLGQht"
      },
      "execution_count": null,
      "outputs": []
    },
    {
      "cell_type": "markdown",
      "source": [
        "(ii) Unique numbers in both the list"
      ],
      "metadata": {
        "id": "OLeRsT2QGlyF"
      }
    },
    {
      "cell_type": "code",
      "source": [
        "import random as r\n",
        "l1=[]\n",
        "for i in range(10):\n",
        "    x=r.randint(10,30)\n",
        "    l1+=[x]\n",
        "print(l1)\n",
        "\n",
        "l2=[]\n",
        "for i in range(10):\n",
        "    x=r.randint(10,30)\n",
        "    l2+=[x]\n",
        "\n",
        "\n",
        "l3=[]\n",
        "for i in l1:\n",
        "    for j in l2:\n",
        "        if (i==j and i not in l3):\n",
        "            l3+=[i]\n",
        "            print(\"unique element \", i)"
      ],
      "metadata": {
        "id": "cjhZDq_KVOWC"
      },
      "execution_count": null,
      "outputs": []
    },
    {
      "cell_type": "markdown",
      "source": [
        "(iii) Minimum in both the list"
      ],
      "metadata": {
        "id": "Svhjwf8nVgu8"
      }
    },
    {
      "cell_type": "code",
      "source": [
        "import random as r\n",
        "l1=[]\n",
        "for i in range(10):\n",
        "    x=r.randint(10,30)\n",
        "    l1+=[x]\n",
        "\n",
        "\n",
        "l2=[]\n",
        "for i in range(10):\n",
        "    x=r.randint(10,30)\n",
        "    l2+=[x]\n",
        "\n",
        "\n",
        "print(min(l1))\n",
        "print(min(l2))"
      ],
      "metadata": {
        "id": "dLDtxWVnVa2y"
      },
      "execution_count": null,
      "outputs": []
    },
    {
      "cell_type": "markdown",
      "source": [
        "(iv) Maximum in both the list"
      ],
      "metadata": {
        "id": "SwYBlQuFG3qY"
      }
    },
    {
      "cell_type": "code",
      "source": [
        "import random as r\n",
        "l1=[]\n",
        "for i in range(10):\n",
        "    x=r.randint(10,30)\n",
        "    l1+=[x]\n",
        "\n",
        "\n",
        "l2=[]\n",
        "for i in range(10):\n",
        "    x=r.randint(10,30)\n",
        "    l2+=[x]\n",
        "\n",
        "\n",
        "print(max(l1))\n",
        "print(max(l2))"
      ],
      "metadata": {
        "id": "-THhHPsjVqwY"
      },
      "execution_count": null,
      "outputs": []
    },
    {
      "cell_type": "markdown",
      "source": [
        "\n",
        "\n",
        "(v) Sum of both the lists\n"
      ],
      "metadata": {
        "id": "-cBXrkb3HEk0"
      }
    },
    {
      "cell_type": "code",
      "source": [
        "import random as r\n",
        "l1=[]\n",
        "for i in range(10):\n",
        "    x=r.randint(10,30)\n",
        "    l1+=[x]\n",
        "\n",
        "\n",
        "l2=[]\n",
        "for i in range(10):\n",
        "    x=r.randint(10,30)\n",
        "    l2+=[x]\n",
        "\n",
        "\n",
        "print(sum(l1)+sum(l2))"
      ],
      "metadata": {
        "colab": {
          "base_uri": "https://localhost:8080/"
        },
        "id": "XZGjVyj3HJnl",
        "outputId": "363384f9-36a6-427b-c541-6fc6f2922d92"
      },
      "execution_count": null,
      "outputs": [
        {
          "output_type": "stream",
          "name": "stdout",
          "text": [
            "371\n"
          ]
        }
      ]
    },
    {
      "cell_type": "markdown",
      "source": [
        "## **QUESTION 6** WAP to create a list of 100 random numbers between 100 and 900."
      ],
      "metadata": {
        "id": "N8R1tPgqHUf4"
      }
    },
    {
      "cell_type": "markdown",
      "source": [
        "(i) All odd numbers"
      ],
      "metadata": {
        "id": "uMrsqghoHeBj"
      }
    },
    {
      "cell_type": "code",
      "source": [
        "import random as r\n",
        "l1=[]\n",
        "for i in range(100):\n",
        "    x=r.randint(100,901)\n",
        "    l1+=[x]\n",
        "    if (x%2!=0):\n",
        "      print(x)"
      ],
      "metadata": {
        "colab": {
          "base_uri": "https://localhost:8080/"
        },
        "id": "jpYTp5JFHhI8",
        "outputId": "1a599432-e7cd-486d-a76e-4ed07ccfa020"
      },
      "execution_count": null,
      "outputs": [
        {
          "output_type": "stream",
          "name": "stdout",
          "text": [
            "271\n",
            "549\n",
            "629\n",
            "847\n",
            "667\n",
            "421\n",
            "901\n",
            "155\n",
            "501\n",
            "299\n",
            "893\n",
            "271\n",
            "533\n",
            "759\n",
            "473\n",
            "353\n",
            "531\n",
            "397\n",
            "465\n",
            "565\n",
            "589\n",
            "679\n",
            "841\n",
            "147\n",
            "237\n",
            "253\n",
            "527\n",
            "153\n",
            "785\n",
            "381\n",
            "683\n",
            "409\n",
            "785\n",
            "159\n",
            "757\n",
            "377\n"
          ]
        }
      ]
    },
    {
      "cell_type": "markdown",
      "source": [
        "(ii) All even numbers"
      ],
      "metadata": {
        "id": "DejU43qAHkbp"
      }
    },
    {
      "cell_type": "code",
      "source": [
        "import random as r\n",
        "l1=[]\n",
        "for i in range(100):\n",
        "    x=r.randint(100,901)\n",
        "    l1+=[x]\n",
        "    if (x%2==0):\n",
        "      print(x)"
      ],
      "metadata": {
        "colab": {
          "base_uri": "https://localhost:8080/"
        },
        "id": "5BLRGg8xHm6w",
        "outputId": "3229e74d-6b9c-441b-d08d-35d0a985ec54"
      },
      "execution_count": null,
      "outputs": [
        {
          "output_type": "stream",
          "name": "stdout",
          "text": [
            "360\n",
            "450\n",
            "738\n",
            "512\n",
            "750\n",
            "888\n",
            "514\n",
            "374\n",
            "126\n",
            "650\n",
            "512\n",
            "562\n",
            "442\n",
            "816\n",
            "654\n",
            "652\n",
            "852\n",
            "886\n",
            "248\n",
            "792\n",
            "848\n",
            "540\n",
            "170\n",
            "486\n",
            "296\n",
            "182\n",
            "590\n",
            "892\n",
            "566\n",
            "664\n",
            "696\n",
            "524\n",
            "468\n",
            "778\n",
            "512\n",
            "190\n",
            "314\n",
            "578\n",
            "126\n",
            "540\n",
            "128\n",
            "318\n",
            "746\n",
            "664\n",
            "508\n",
            "828\n",
            "848\n",
            "666\n",
            "510\n",
            "362\n",
            "334\n",
            "288\n"
          ]
        }
      ]
    },
    {
      "cell_type": "markdown",
      "source": [
        "(iii) All prime numbers"
      ],
      "metadata": {
        "id": "Xfwa-wKRHsd9"
      }
    },
    {
      "cell_type": "code",
      "source": [
        "import random as r\n",
        "l1=[]\n",
        "for i in range(100):\n",
        "    x=r.randint(100,901)\n",
        "    l1+=[x]\n",
        "    f=0\n",
        "    for j in range(2,x//2+1):\n",
        "      if x%j==0:\n",
        "        f=1\n",
        "        break\n",
        "    if f==0:\n",
        "      print(x)"
      ],
      "metadata": {
        "colab": {
          "base_uri": "https://localhost:8080/"
        },
        "id": "Kk7S67wuHxWD",
        "outputId": "9d611353-fbb0-4062-e36e-1b8212433ede"
      },
      "execution_count": null,
      "outputs": [
        {
          "output_type": "stream",
          "name": "stdout",
          "text": [
            "599\n",
            "113\n",
            "631\n",
            "503\n",
            "631\n",
            "809\n",
            "347\n",
            "433\n",
            "347\n",
            "347\n",
            "269\n",
            "181\n",
            "521\n",
            "353\n",
            "541\n",
            "757\n",
            "157\n",
            "881\n"
          ]
        }
      ]
    },
    {
      "cell_type": "markdown",
      "source": [
        "## Ques 7\n",
        "\n",
        "D is a dictionary defined as D={1:\"One\",2:\"Two\",3:\"Three\",4:\"Four\", 5:\"Five\"}. WAP to read all the keys and values from dictionary and write to the file in the given below format. Key1, Value1 Key2, Value2 Key3, Value3\n"
      ],
      "metadata": {
        "id": "ySaxfi2iH1Ht"
      }
    },
    {
      "cell_type": "code",
      "source": [
        "D={1:\"One\",2:\"Two\",3:\"Three\",4:\"Four\", 5:\"Five\"}\n",
        "for i in D:\n",
        "  print(i,\",\",D[i])"
      ],
      "metadata": {
        "colab": {
          "base_uri": "https://localhost:8080/"
        },
        "id": "pUNkFJwWH-0E",
        "outputId": "089f68fe-d7dd-4f8d-8d1c-3342d1da3db9"
      },
      "execution_count": null,
      "outputs": [
        {
          "output_type": "stream",
          "name": "stdout",
          "text": [
            "1 , One\n",
            "2 , Two\n",
            "3 , Three\n",
            "4 , Four\n",
            "5 , Five\n"
          ]
        }
      ]
    },
    {
      "cell_type": "markdown",
      "source": [
        "##Ques 8\n",
        "\n",
        "L is a list defined as L={\"One\",\"Two\",\"Three\",\"Four\",\"Five\"}. WAP to count the length of reach element from a list and write to the file in the given below format: One, 3 Two, 3 Four, 4\n"
      ],
      "metadata": {
        "id": "SFYx00ULICz9"
      }
    },
    {
      "cell_type": "code",
      "source": [],
      "metadata": {
        "id": "RjHXool5IHxN"
      },
      "execution_count": null,
      "outputs": []
    },
    {
      "cell_type": "markdown",
      "source": [
        "## Ques 9\n",
        "\n",
        "Write to the file 100 random strings whose length between 10 and 15.\n"
      ],
      "metadata": {
        "id": "PpBWU64zINnj"
      }
    },
    {
      "cell_type": "code",
      "source": [
        "file = open('ques9.txt', 'a')\n",
        "import string as s\n",
        "S=s.ascii_letters\n",
        "for i in range(100):\n",
        "  file.write(\"\".join)"
      ],
      "metadata": {
        "colab": {
          "base_uri": "https://localhost:8080/",
          "height": 201
        },
        "id": "mrV2dMWEIRDu",
        "outputId": "720b9903-5cef-4e02-e43f-2cdac6c19987"
      },
      "execution_count": null,
      "outputs": [
        {
          "output_type": "error",
          "ename": "TypeError",
          "evalue": "ignored",
          "traceback": [
            "\u001b[0;31m---------------------------------------------------------------------------\u001b[0m",
            "\u001b[0;31mTypeError\u001b[0m                                 Traceback (most recent call last)",
            "\u001b[0;32m<ipython-input-71-c699f3124596>\u001b[0m in \u001b[0;36m<cell line: 4>\u001b[0;34m()\u001b[0m\n\u001b[1;32m      3\u001b[0m \u001b[0mS\u001b[0m\u001b[0;34m=\u001b[0m\u001b[0ms\u001b[0m\u001b[0;34m.\u001b[0m\u001b[0mascii_letters\u001b[0m\u001b[0;34m\u001b[0m\u001b[0;34m\u001b[0m\u001b[0m\n\u001b[1;32m      4\u001b[0m \u001b[0;32mfor\u001b[0m \u001b[0mi\u001b[0m \u001b[0;32min\u001b[0m \u001b[0mrange\u001b[0m\u001b[0;34m(\u001b[0m\u001b[0;36m100\u001b[0m\u001b[0;34m)\u001b[0m\u001b[0;34m:\u001b[0m\u001b[0;34m\u001b[0m\u001b[0;34m\u001b[0m\u001b[0m\n\u001b[0;32m----> 5\u001b[0;31m   \u001b[0mfile\u001b[0m\u001b[0;34m.\u001b[0m\u001b[0mwrite\u001b[0m\u001b[0;34m(\u001b[0m\u001b[0;34m\"\"\u001b[0m\u001b[0;34m.\u001b[0m\u001b[0mjoin\u001b[0m\u001b[0;34m)\u001b[0m\u001b[0;34m\u001b[0m\u001b[0;34m\u001b[0m\u001b[0m\n\u001b[0m",
            "\u001b[0;31mTypeError\u001b[0m: write() argument must be str, not builtin_function_or_method"
          ]
        }
      ]
    }
  ]
}